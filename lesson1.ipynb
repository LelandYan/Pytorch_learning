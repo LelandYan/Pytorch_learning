{
 "cells": [
  {
   "cell_type": "code",
   "execution_count": 14,
   "metadata": {},
   "outputs": [],
   "source": [
    "import torch as t\n",
    "import numpy as np\n",
    "x = t.Tensor(5,3)"
   ]
  },
  {
   "cell_type": "code",
   "execution_count": 3,
   "metadata": {},
   "outputs": [
    {
     "data": {
      "text/plain": [
       "tensor([[1.0102e-38, 1.0102e-38, 8.4490e-39],\n",
       "        [9.6429e-39, 8.4490e-39, 9.6429e-39],\n",
       "        [9.2755e-39, 1.0286e-38, 9.0919e-39],\n",
       "        [8.9082e-39, 9.2755e-39, 8.4490e-39],\n",
       "        [1.0194e-38, 9.0919e-39, 8.4490e-39]])"
      ]
     },
     "execution_count": 3,
     "metadata": {},
     "output_type": "execute_result"
    }
   ],
   "source": [
    "x"
   ]
  },
  {
   "cell_type": "code",
   "execution_count": 4,
   "metadata": {},
   "outputs": [
    {
     "data": {
      "text/plain": [
       "tensor([[0.9153, 0.1058, 0.7561],\n",
       "        [0.2916, 0.6148, 0.0631],\n",
       "        [0.7947, 0.4844, 0.6126],\n",
       "        [0.0635, 0.8541, 0.1412],\n",
       "        [0.1650, 0.1104, 0.9947]])"
      ]
     },
     "execution_count": 4,
     "metadata": {},
     "output_type": "execute_result"
    }
   ],
   "source": [
    "x = t.rand(5,3)\n",
    "x"
   ]
  },
  {
   "cell_type": "code",
   "execution_count": 8,
   "metadata": {},
   "outputs": [
    {
     "name": "stdout",
     "output_type": "stream",
     "text": [
      "torch.Size([5, 3])\n"
     ]
    }
   ],
   "source": [
    "print(x.size())"
   ]
  },
  {
   "cell_type": "code",
   "execution_count": 9,
   "metadata": {},
   "outputs": [
    {
     "data": {
      "text/plain": [
       "tensor([[1.7763, 0.7971, 0.9364],\n",
       "        [1.2745, 1.1765, 0.8845],\n",
       "        [1.0351, 0.8100, 1.2991],\n",
       "        [0.1831, 1.5257, 1.0680],\n",
       "        [0.3724, 0.3679, 1.1082]])"
      ]
     },
     "execution_count": 9,
     "metadata": {},
     "output_type": "execute_result"
    }
   ],
   "source": [
    "y = t.rand(5,3)\n",
    "t.add(x,y)"
   ]
  },
  {
   "cell_type": "code",
   "execution_count": 10,
   "metadata": {},
   "outputs": [
    {
     "data": {
      "text/plain": [
       "tensor([[1.7763, 0.7971, 0.9364],\n",
       "        [1.2745, 1.1765, 0.8845],\n",
       "        [1.0351, 0.8100, 1.2991],\n",
       "        [0.1831, 1.5257, 1.0680],\n",
       "        [0.3724, 0.3679, 1.1082]])"
      ]
     },
     "execution_count": 10,
     "metadata": {},
     "output_type": "execute_result"
    }
   ],
   "source": [
    "result = t.Tensor(5,3)\n",
    "t.add(x,y,out=result)\n",
    "result"
   ]
  },
  {
   "cell_type": "code",
   "execution_count": 11,
   "metadata": {},
   "outputs": [
    {
     "name": "stdout",
     "output_type": "stream",
     "text": [
      "最初y\n",
      "tensor([[0.8610, 0.6913, 0.1802],\n",
      "        [0.9829, 0.5616, 0.8214],\n",
      "        [0.2403, 0.3256, 0.6865],\n",
      "        [0.1196, 0.6716, 0.9268],\n",
      "        [0.2074, 0.2575, 0.1134]])\n",
      "第一种加法，y的结果\n",
      "tensor([[0.8610, 0.6913, 0.1802],\n",
      "        [0.9829, 0.5616, 0.8214],\n",
      "        [0.2403, 0.3256, 0.6865],\n",
      "        [0.1196, 0.6716, 0.9268],\n",
      "        [0.2074, 0.2575, 0.1134]])\n",
      "第二种加法,y的结果\n",
      "tensor([[1.7763, 0.7971, 0.9364],\n",
      "        [1.2745, 1.1765, 0.8845],\n",
      "        [1.0351, 0.8100, 1.2991],\n",
      "        [0.1831, 1.5257, 1.0680],\n",
      "        [0.3724, 0.3679, 1.1082]])\n"
     ]
    }
   ],
   "source": [
    "print(\"最初y\")\n",
    "print(y)\n",
    "\n",
    "print(\"第一种加法，y的结果\")\n",
    "y.add(x)\n",
    "print(y)\n",
    "\n",
    "print(\"第二种加法,y的结果\")\n",
    "y.add_(x)\n",
    "print(y)"
   ]
  },
  {
   "cell_type": "code",
   "execution_count": 12,
   "metadata": {},
   "outputs": [],
   "source": [
    "b = x.numpy()"
   ]
  },
  {
   "cell_type": "code",
   "execution_count": 13,
   "metadata": {},
   "outputs": [
    {
     "data": {
      "text/plain": [
       "array([[0.91527206, 0.1057539 , 0.75613457],\n",
       "       [0.29157132, 0.61483246, 0.06307381],\n",
       "       [0.79473174, 0.484401  , 0.6125984 ],\n",
       "       [0.06351846, 0.85410166, 0.14124417],\n",
       "       [0.16499662, 0.11043751, 0.99474883]], dtype=float32)"
      ]
     },
     "execution_count": 13,
     "metadata": {},
     "output_type": "execute_result"
    }
   ],
   "source": [
    "b"
   ]
  },
  {
   "cell_type": "code",
   "execution_count": 17,
   "metadata": {},
   "outputs": [],
   "source": [
    "if t.cuda.is_available():\n",
    "    x = x.cuda()\n",
    "    y = y.cuda()\n",
    "    x+y"
   ]
  },
  {
   "cell_type": "code",
   "execution_count": 20,
   "metadata": {},
   "outputs": [
    {
     "name": "stdout",
     "output_type": "stream",
     "text": [
      "False\n"
     ]
    }
   ],
   "source": [
    "print(t.cuda.is_available())"
   ]
  },
  {
   "cell_type": "code",
   "execution_count": 21,
   "metadata": {},
   "outputs": [
    {
     "data": {
      "text/plain": [
       "tensor([[1., 1.],\n",
       "        [1., 1.]], requires_grad=True)"
      ]
     },
     "execution_count": 21,
     "metadata": {},
     "output_type": "execute_result"
    }
   ],
   "source": [
    "from torch.autograd import Variable\n",
    "x = Variable(t.ones(2,2),requires_grad = True)\n",
    "x"
   ]
  },
  {
   "cell_type": "code",
   "execution_count": 22,
   "metadata": {},
   "outputs": [
    {
     "data": {
      "text/plain": [
       "tensor(4., grad_fn=<SumBackward0>)"
      ]
     },
     "execution_count": 22,
     "metadata": {},
     "output_type": "execute_result"
    }
   ],
   "source": [
    "y = x.sum()\n",
    "y"
   ]
  },
  {
   "cell_type": "code",
   "execution_count": 23,
   "metadata": {},
   "outputs": [
    {
     "data": {
      "text/plain": [
       "<SumBackward0 at 0x1b85a17be80>"
      ]
     },
     "execution_count": 23,
     "metadata": {},
     "output_type": "execute_result"
    }
   ],
   "source": [
    "y.grad_fn"
   ]
  },
  {
   "cell_type": "code",
   "execution_count": 25,
   "metadata": {},
   "outputs": [],
   "source": [
    "y.backward()"
   ]
  },
  {
   "cell_type": "code",
   "execution_count": 29,
   "metadata": {},
   "outputs": [
    {
     "ename": "SyntaxError",
     "evalue": "can't assign to function call (<ipython-input-29-6363650e44a8>, line 1)",
     "output_type": "error",
     "traceback": [
      "\u001b[1;36m  File \u001b[1;32m\"<ipython-input-29-6363650e44a8>\"\u001b[1;36m, line \u001b[1;32m1\u001b[0m\n\u001b[1;33m    y = x.sum() = (x[0][0] + x[0][1] + x[1][0] + x[1][1])\u001b[0m\n\u001b[1;37m       ^\u001b[0m\n\u001b[1;31mSyntaxError\u001b[0m\u001b[1;31m:\u001b[0m can't assign to function call\n"
     ]
    }
   ],
   "source": [
    "y = x.sum() = (x[0][0] + x[0][1] + x[1][0] + x[1][1])\n",
    "x.grad"
   ]
  },
  {
   "cell_type": "code",
   "execution_count": null,
   "metadata": {},
   "outputs": [],
   "source": []
  }
 ],
 "metadata": {
  "kernelspec": {
   "display_name": "Python 3",
   "language": "python",
   "name": "python3"
  },
  "language_info": {
   "codemirror_mode": {
    "name": "ipython",
    "version": 3
   },
   "file_extension": ".py",
   "mimetype": "text/x-python",
   "name": "python",
   "nbconvert_exporter": "python",
   "pygments_lexer": "ipython3",
   "version": "3.6.8"
  }
 },
 "nbformat": 4,
 "nbformat_minor": 2
}
